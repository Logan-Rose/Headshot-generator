{
 "cells": [
  {
   "cell_type": "code",
   "execution_count": 4,
   "metadata": {},
   "outputs": [
    {
     "name": "stdout",
     "output_type": "stream",
     "text": [
      "<bound method HTTPResponse.read of <http.client.HTTPResponse object at 0x1120a3df0>>\n",
      "[[[132 126 131]\n",
      "  [135 129 134]\n",
      "  [132 126 131]\n",
      "  ...\n",
      "  [130 124 159]\n",
      "  [132 126 161]\n",
      "  [130 124 159]]\n",
      "\n",
      " [[129 123 128]\n",
      "  [136 130 135]\n",
      "  [139 133 138]\n",
      "  ...\n",
      "  [130 124 159]\n",
      "  [131 125 160]\n",
      "  [129 123 158]]\n",
      "\n",
      " [[119 113 118]\n",
      "  [127 121 126]\n",
      "  [132 126 131]\n",
      "  ...\n",
      "  [132 126 161]\n",
      "  [132 126 161]\n",
      "  [133 127 162]]\n",
      "\n",
      " ...\n",
      "\n",
      " [[ 25  21  32]\n",
      "  [ 30  26  37]\n",
      "  [ 32  28  39]\n",
      "  ...\n",
      "  [ 50  42  49]\n",
      "  [ 54  46  53]\n",
      "  [ 53  45  52]]\n",
      "\n",
      " [[ 30  26  37]\n",
      "  [ 27  23  34]\n",
      "  [ 24  20  31]\n",
      "  ...\n",
      "  [ 44  36  43]\n",
      "  [ 49  41  48]\n",
      "  [ 55  47  54]]\n",
      "\n",
      " [[ 31  27  38]\n",
      "  [ 27  23  34]\n",
      "  [ 25  21  32]\n",
      "  ...\n",
      "  [ 40  32  39]\n",
      "  [ 46  38  45]\n",
      "  [ 52  44  51]]]\n"
     ]
    },
    {
     "ename": "",
     "evalue": "",
     "output_type": "error",
     "traceback": [
      "\u001b[1;31mThe Kernel crashed while executing code in the the current cell or a previous cell. Please review the code in the cell(s) to identify a possible cause of the failure. Click <a href='https://aka.ms/vscodeJupyterKernelCrash'>here</a> for more info. View Jupyter <a href='command:jupyter.viewOutput'>log</a> for further details."
     ]
    }
   ],
   "source": [
    "import cv2 as cv\n",
    "import numpy as np\n",
    "import mediapipe as mp\n",
    "import matplotlib.pyplot as plt\n",
    "import math\n",
    "import imutils\n",
    "\n",
    "url=\"https://file.io/a3Wzwecb1wd4\"\n",
    "\n",
    "import cv2\n",
    "import urllib\n",
    "import numpy as np\n",
    "\n",
    "req = urllib.request.urlopen(url)\n",
    "print(req.read)\n",
    "arr = np.asarray(bytearray(req.read()), dtype=np.uint8)\n",
    "img = cv2.imdecode(arr, -1) # 'Load it as it is'\n",
    "print(img)\n",
    "cv2.imshow('lalala', img)\n",
    "if cv2.waitKey() & 0xff == 27: quit()"
   ]
  }
 ],
 "metadata": {
  "kernelspec": {
   "display_name": "Python 3",
   "language": "python",
   "name": "python3"
  },
  "language_info": {
   "codemirror_mode": {
    "name": "ipython",
    "version": 3
   },
   "file_extension": ".py",
   "mimetype": "text/x-python",
   "name": "python",
   "nbconvert_exporter": "python",
   "pygments_lexer": "ipython3",
   "version": "3.9.16"
  },
  "orig_nbformat": 4
 },
 "nbformat": 4,
 "nbformat_minor": 2
}
